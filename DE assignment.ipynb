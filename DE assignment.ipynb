{
 "cells": [
  {
   "cell_type": "markdown",
   "metadata": {},
   "source": [
    "* _Note_: The plot previews do not work in Github, but work [here](http://nbviewer.jupyter.org/github/SkarletSkay/DE_Assignment/blob/master/DE%20assignment%20%285%29.ipynb)"
   ]
  },
  {
   "cell_type": "code",
   "execution_count": 1,
   "metadata": {},
   "outputs": [],
   "source": [
    "%matplotlib inline\n",
    "import numpy  as np\n",
    "import matplotlib\n",
    "import matplotlib.pyplot as plt"
   ]
  },
  {
   "cell_type": "markdown",
   "metadata": {},
   "source": [
    "<h2>Functions:</h2>\n",
    "\n",
    "* **Differential Equation**\n",
    "\n",
    "\n",
    "* **Differential Equation Solution**\n",
    "    \n",
    "    $ \\frac{-3e^{2x}}{e^{3x} - 6e^{2} - e^{3}} $\n",
    "    \n",
    "    and this function is discontinious at the region where x=~1.38\n",
    "    \n",
    "    So it should be considered in our numerical methods, because otherwise they will not work correct.\n",
    "    \n",
    "    I take the region (dis1, dis2), where methods do not work because of overflow in python.\n",
    "    \n",
    "    Because point (1, 0.5) on the left side, therefore after discontinuity there is not any value of y to continue to calculate by numerical methods.\n",
    "    \n",
    "    Actually numerical methods cannot use the exact soultion but in this case let's consider it is possible, because otherwise we cannot calculate the right side of the plot. \n",
    "    \n",
    "    yd is y(x) calculated using the exact solution, where x is the first point which consider in the plot after the discontinuity.\n",
    "    \n",
    "    x0 $= x_0$\n",
    "    \n",
    "    y0 $= y(x_0)$\n",
    "    \n",
    "    X is the right bound of the interval $ [x_0; X] $\n",
    "    \n",
    "    (dis1, dis2) is bounds of discontinuity region\n",
    "    \n",
    "    So the functions gets (x0, y0, dis1, dis2, yd, X)\n",
    "    \n",
    "\n",
    "* **Euler's method**\n",
    "\n",
    "    $ y_{n+1} = y_{n} + h * f(x_{n}, y_{n}) $\n",
    "    \n",
    "    \n",
    "* **Improved Euler's method**\n",
    "    \n",
    "    $ k_{1n} = f(x_{n}, y_{n}) $\n",
    "    \n",
    "    $ k_{2n} = f(x_{n} + h, y_{n} + hk_{1n}) $\n",
    "    \n",
    "    $ y_{n+1} = y_{n} + \\frac{h}{2} * (k_{1n}+k_{2n}) $\n",
    "    \n",
    "    \n",
    "* **Runge-Kutta method**\n",
    "\n",
    "    $ k_{1n} = f(x_{n}, y_{n}) $\n",
    "    \n",
    "    $ k_{2n} = f(x_{n} + \\frac{h}{2}, y_{n} + \\frac{h}{2} * k_{1n}) $\n",
    "    \n",
    "    $ k_{3n} = f(x_{n} + \\frac{h}{2}, y_{n} + \\frac{h}{2} * k_{2n}) $\n",
    "    \n",
    "    $ k_{4n} = f(x_{n} + h, y_{n} + hk_{3n}) $\n",
    "    \n",
    "    $ y_{n+1} = y_{n} + \\frac{h}{6} * (k_{1n}+2k_{2n}+2k_{3n}+k_{4n}) $\n",
    "    "
   ]
  },
  {
   "cell_type": "code",
   "execution_count": 2,
   "metadata": {},
   "outputs": [],
   "source": [
    "def f(x, y):\n",
    "    return y*y*np.exp(x) + 2 * y"
   ]
  },
  {
   "cell_type": "code",
   "execution_count": 3,
   "metadata": {},
   "outputs": [
    {
     "data": {
      "text/plain": [
       "array([0.5])"
      ]
     },
     "execution_count": 3,
     "metadata": {},
     "output_type": "execute_result"
    }
   ],
   "source": [
    "def exact(x):\n",
    "    a = (np.exp(3*x) - (np.exp(2)*6) - np.exp(3))\n",
    "    res = (-3*np.exp(2*x))/a\n",
    "    return res\n",
    "\n",
    "exact(np.array([1])) # y(1) = 0.5"
   ]
  },
  {
   "cell_type": "code",
   "execution_count": 4,
   "metadata": {},
   "outputs": [],
   "source": [
    "GRID_SIZE = 100\n",
    "X = 7\n",
    "x0 = 1\n",
    "y0 = 0.5\n",
    "\n",
    "h = (X - x0)/GRID_SIZE\n",
    "x = np.arange(x0, X, h) #Let's have the separate list of x for easier calculation of errors"
   ]
  },
  {
   "cell_type": "code",
   "execution_count": 5,
   "metadata": {},
   "outputs": [],
   "source": [
    "def euler(y0, dis1, dis2, yd, X):\n",
    "    ys = []\n",
    "    y = y0\n",
    "    for t in x :\n",
    "        if t > dis1 and t < dis2: # Set Not a Number for discountinuity region\n",
    "            ys.append(np.nan)\n",
    "            y = yd\n",
    "        else:\n",
    "            y_n  = y + h*f(t,y)\n",
    "            ys.append(y)\n",
    "            y = y_n\n",
    "    return ys \n",
    "    "
   ]
  },
  {
   "cell_type": "code",
   "execution_count": 6,
   "metadata": {},
   "outputs": [],
   "source": [
    "def impr_euler(y0,dis1, dis2, yd, X):\n",
    "    ys = []\n",
    "    y = y0\n",
    "    for t in x :\n",
    "        if t > dis1 and t<dis2: # Set Not a Number for discountinuity region\n",
    "            ys.append(np.nan)\n",
    "            y = yd\n",
    "        else:\n",
    "            k1 = f(t,y)\n",
    "            k2 = f(t+h,y + h*k1)\n",
    "            y_n  = y + (h/2)*(k1+k2)\n",
    "            ys.append(y)\n",
    "            y = y_n\n",
    "    return ys "
   ]
  },
  {
   "cell_type": "code",
   "execution_count": 7,
   "metadata": {},
   "outputs": [],
   "source": [
    "def runge_kutta(y0,dis1, dis2, yd, X):\n",
    "    ys =[]\n",
    "    y = y0\n",
    "    for t in x :\n",
    "        if t > dis1 and t<dis2: # Set Not a Number for discountinuity region\n",
    "            ys.append(np.nan)\n",
    "            y = yd\n",
    "        else:\n",
    "            k1 = f(t,y)\n",
    "            k2 = f(t+h/2,y + h*k1/2)\n",
    "            k3 = f(t+h/2,y + h*k2/2)\n",
    "            k4 = f(t+h,y + h*k3)\n",
    "            y_n  = y + (h/6)*(k1+2*k2 + 2*k3 + k4)\n",
    "            ys.append(y)\n",
    "            y = y_n\n",
    "    return ys "
   ]
  },
  {
   "cell_type": "code",
   "execution_count": 8,
   "metadata": {},
   "outputs": [],
   "source": [
    "y = exact(x);\n",
    "#Using exact solution find the discontinuity. Let's consider it is the difference between Xn+1 - Xn >= 5 \n",
    "pos = np.where(np.diff(y)>=5)[0]\n",
    "\n",
    "#Find bounds of discontinious region\n",
    "if len(pos) > 0: \n",
    "    dis1 = x[pos[0] - 1]\n",
    "    dis2 = x[pos[-1] + 1]\n",
    "    yd = y[pos[-1] + 1]\n",
    "else:\n",
    "    dis1 = -1\n",
    "    dis2 = -1\n",
    "    yd = -1\n",
    "    \n",
    "#Calculate using the numerical methods\n",
    "eul = euler(y0,dis1,dis2, yd,X)\n",
    "i_eul = impr_euler(y0,dis1,dis2, yd,X)\n",
    "run_k = runge_kutta(y0,dis1,dis2, yd,X)\n",
    "\n",
    "# Set Not a Number for discountinuity region \n",
    "if(len(pos)>0):\n",
    "    for i in range(pos[0],pos[-1],1):\n",
    "        y[i] = np.nan\n",
    "\n"
   ]
  },
  {
   "cell_type": "markdown",
   "metadata": {},
   "source": [
    "## Plots"
   ]
  },
  {
   "cell_type": "code",
   "execution_count": 9,
   "metadata": {},
   "outputs": [
    {
     "name": "stderr",
     "output_type": "stream",
     "text": [
      "D:\\Programming\\Python\\DifferentialEquations\\venv\\lib\\site-packages\\IPython\\core\\display.py:689: UserWarning:\n",
      "\n",
      "Consider using IPython.display.IFrame instead\n",
      "\n"
     ]
    },
    {
     "data": {
      "text/html": [
       "<iframe id=\"igraph\" scrolling=\"no\" style=\"border:none;\" seamless=\"seamless\" src=\"https://plot.ly/~SkarletSkay/6.embed\" height=\"525px\" width=\"100%\"></iframe>"
      ],
      "text/plain": [
       "<plotly.tools.PlotlyDisplay object>"
      ]
     },
     "execution_count": 9,
     "metadata": {},
     "output_type": "execute_result"
    }
   ],
   "source": [
    "import plotly.plotly as plotl\n",
    "import plotly.graph_objs as go\n",
    "\n",
    "#Plotting\n",
    "exact_trace = go.Scatter(\n",
    "    name = \"Exact\",\n",
    "    x = x,\n",
    "    y = y\n",
    ")\n",
    "\n",
    "euler_trace = go.Scatter(\n",
    "    name = \"Euler's\",\n",
    "    x = x,\n",
    "    y = eul\n",
    ")\n",
    "\n",
    "i_euler_trace = go.Scatter(\n",
    "    name = \"Improved Euler's\",\n",
    "    x = x,\n",
    "    y = i_eul\n",
    ")\n",
    "\n",
    "runge_kutta_trace = go.Scatter(\n",
    "    name = \"Runge-Kutta\",\n",
    "    x = x,\n",
    "    y = run_k\n",
    ")\n",
    "#Plot axis and title\n",
    "layout = dict(title = 'Solution Before Discontinuity',\n",
    "              xaxis = dict(title = 'X axis'),\n",
    "              yaxis = dict(title = 'Y axis'),\n",
    "              )\n",
    "\n",
    "data = [exact_trace, euler_trace, i_euler_trace, runge_kutta_trace]\n",
    "fig = dict(data=data, layout=layout)\n",
    "plotl.iplot(fig, filename='basic-line1') "
   ]
  },
  {
   "cell_type": "markdown",
   "metadata": {},
   "source": [
    "## Only Left Side\n",
    "Actually we know that there is not true numerical method used for the right side, let's check only left side now.\n",
    "Error increase every step."
   ]
  },
  {
   "cell_type": "code",
   "execution_count": 10,
   "metadata": {},
   "outputs": [],
   "source": [
    "X = 1.38\n",
    "h = (X - x0)/GRID_SIZE\n",
    "x = np.arange(x0, X, h)\n",
    "y = exact(x);\n",
    "    \n",
    "dis1 = -1\n",
    "dis2 = -1\n",
    "yd = -1\n",
    "    \n",
    "#Calculate using the numerical methods\n",
    "eul = euler(y0,dis1,dis2, yd,X)\n",
    "i_eul = impr_euler(y0,dis1,dis2, yd,X)\n",
    "run_k = runge_kutta(y0,dis1,dis2, yd,X)\n",
    "\n",
    "\n",
    "\n"
   ]
  },
  {
   "cell_type": "code",
   "execution_count": 11,
   "metadata": {
    "scrolled": false
   },
   "outputs": [
    {
     "data": {
      "text/html": [
       "<iframe id=\"igraph\" scrolling=\"no\" style=\"border:none;\" seamless=\"seamless\" src=\"https://plot.ly/~SkarletSkay/8.embed\" height=\"525px\" width=\"100%\"></iframe>"
      ],
      "text/plain": [
       "<plotly.tools.PlotlyDisplay object>"
      ]
     },
     "execution_count": 11,
     "metadata": {},
     "output_type": "execute_result"
    }
   ],
   "source": [
    "#Plotting\n",
    "exact_trace = go.Scatter(\n",
    "    name = \"Exact\",\n",
    "    x = x,\n",
    "    y = y\n",
    ")\n",
    "\n",
    "euler_trace = go.Scatter(\n",
    "    name = \"Euler's\",\n",
    "    x = x,\n",
    "    y = eul\n",
    ")\n",
    "\n",
    "i_euler_trace = go.Scatter(\n",
    "    name = \"Improved Euler's\",\n",
    "    x = x,\n",
    "    y = i_eul\n",
    ")\n",
    "\n",
    "runge_kutta_trace = go.Scatter(\n",
    "    name = \"Runge-Kutta\",\n",
    "    x = x,\n",
    "    y = run_k\n",
    ")\n",
    "#Plot axis and title\n",
    "layout = dict(title = 'Solution Before Discontinuity',\n",
    "              xaxis = dict(title = 'X axis'),\n",
    "              yaxis = dict(title = 'Y axis'),\n",
    "              )\n",
    "\n",
    "data = [exact_trace, euler_trace, i_euler_trace, runge_kutta_trace]\n",
    "fig = dict(data=data, layout=layout)\n",
    "plotl.iplot(fig, filename='basic-line2') "
   ]
  },
  {
   "cell_type": "markdown",
   "metadata": {},
   "source": [
    "## Global Errors\n",
    "Error decrease when grid size increase, because we have smaller steps"
   ]
  },
  {
   "cell_type": "code",
   "execution_count": 12,
   "metadata": {},
   "outputs": [],
   "source": [
    "eul_errors = []\n",
    "i_eul_errors = []\n",
    "runge_kutta_errors = []\n",
    "for j in range(100,500,10):\n",
    "    X = 1.38\n",
    "    h = (X - x0)/j\n",
    "    x = np.arange(x0, X, h)\n",
    "    y = exact(x);\n",
    "    \n",
    "    dis1 = -1\n",
    "    dis2 = -1\n",
    "    yd = -1\n",
    "    \n",
    "    #Calculate using the numerical methods\n",
    "    eul = euler(y0,dis1,dis2, yd,X)\n",
    "    i_eul = impr_euler(y0,dis1,dis2, yd,X)\n",
    "    run_k = runge_kutta(y0,dis1,dis2, yd,X)\n",
    "\n",
    "    ex_v = dict((x, y) for x, y in zip(x,y))\n",
    "    eul_v = dict((x, y) for x, y in zip(x,eul))\n",
    "    i_eul_v = dict((x, y) for x, y in zip(x, i_eul))\n",
    "    run_k_v = dict((x, y) for x, y in zip(x, run_k))\n",
    "\n",
    "    eul_t_err = 0\n",
    "    i_eul_t_err = 0\n",
    "    run_k_t_err = 0\n",
    "    #Calculate error\n",
    "    for t in x:\n",
    "         \n",
    "        temp = np.abs(ex_v[t]-eul_v[t])\n",
    "        eul_t_err = eul_t_err + temp\n",
    "                \n",
    "        temp = np.abs(ex_v[t]-i_eul_v[t])\n",
    "        i_eul_t_err = i_eul_t_err+temp\n",
    "                \n",
    "        temp = np.abs(ex_v[t]-run_k_v[t])\n",
    "        run_k_t_err = run_k_t_err+temp\n",
    "    \n",
    "    #Add total errors of this grid size to the lists\n",
    "    eul_errors.append(eul_t_err/j)\n",
    "    i_eul_errors.append(i_eul_t_err/j)\n",
    "    runge_kutta_errors.append(run_k_t_err/j)\n"
   ]
  },
  {
   "cell_type": "code",
   "execution_count": 13,
   "metadata": {},
   "outputs": [
    {
     "data": {
      "text/html": [
       "<iframe id=\"igraph\" scrolling=\"no\" style=\"border:none;\" seamless=\"seamless\" src=\"https://plot.ly/~SkarletSkay/10.embed\" height=\"525px\" width=\"100%\"></iframe>"
      ],
      "text/plain": [
       "<plotly.tools.PlotlyDisplay object>"
      ]
     },
     "execution_count": 13,
     "metadata": {},
     "output_type": "execute_result"
    }
   ],
   "source": [
    "#Plotting\n",
    "euler_total_err = go.Scatter(\n",
    "    name = \"Euler's\",\n",
    "    x = np.arange(100,500,10),\n",
    "    y = eul_errors\n",
    ")\n",
    "\n",
    "impr_euler_total_err = go.Scatter(\n",
    "    name = \"Improved Euler's\",\n",
    "    x = np.arange(100,500,10),\n",
    "    y = i_eul_errors\n",
    ")\n",
    "\n",
    "runge_kutta_trace_err = go.Scatter(\n",
    "    name = \"Runge-Kutta\",\n",
    "    x = np.arange(100,500,10),\n",
    "    y = runge_kutta_errors\n",
    ")\n",
    "\n",
    "#Plot axis and title\n",
    "layout = dict(title = 'Global Errors Graph',\n",
    "              xaxis = dict(title = 'Gride Size'),\n",
    "              yaxis = dict(title = 'Global Error'),\n",
    "              )\n",
    "\n",
    "\n",
    "data = [euler_total_err, impr_euler_total_err,runge_kutta_trace_err]\n",
    "fig = dict(data=data, layout=layout)\n",
    "plotl.iplot(fig, filename='basic-line3') "
   ]
  }
 ],
 "metadata": {
  "kernelspec": {
   "display_name": "Python 3",
   "language": "python",
   "name": "python3"
  },
  "language_info": {
   "codemirror_mode": {
    "name": "ipython",
    "version": 3
   },
   "file_extension": ".py",
   "mimetype": "text/x-python",
   "name": "python",
   "nbconvert_exporter": "python",
   "pygments_lexer": "ipython3",
   "version": "3.6.4"
  }
 },
 "nbformat": 4,
 "nbformat_minor": 1
}
